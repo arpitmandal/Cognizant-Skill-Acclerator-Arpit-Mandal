from transformers import AutoModelForCausalLM, Trainer, TrainingArguments
model = AutoModelForCausalLM.from_pretrained("distilgpt2")
training_args = TrainingArguments(output_dir="./results", num_train_epochs=3)
trainer = Trainer(model=model, args=training_args, train_dataset=dataset)
trainer.train()
model.save_pretrained("models/fine_tuned_model")
