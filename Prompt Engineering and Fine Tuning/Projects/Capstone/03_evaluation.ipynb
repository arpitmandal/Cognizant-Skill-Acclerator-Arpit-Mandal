from sklearn.metrics import accuracy_score
predictions = ["Positive", "Negative"]
true_labels = ["Positive", "Negative"]
print(accuracy_score(true_labels, predictions))
