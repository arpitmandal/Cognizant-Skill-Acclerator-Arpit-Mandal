from transformers import AutoTokenizer
tokenizer = AutoTokenizer.from_pretrained("gpt2")
tokenized = tokenizer("How do I reset my password?")
print(tokenized)
