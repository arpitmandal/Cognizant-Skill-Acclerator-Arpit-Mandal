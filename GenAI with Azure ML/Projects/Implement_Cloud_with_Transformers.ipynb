{
  "nbformat": 4,
  "nbformat_minor": 0,
  "metadata": {
    "colab": {
      "provenance": []
    },
    "kernelspec": {
      "name": "python3",
      "display_name": "Python 3"
    },
    "language_info": {
      "name": "python"
    }
  },
  "cells": [
    {
      "cell_type": "code",
      "execution_count": null,
      "metadata": {
        "id": "9VCfzCP3SHNb"
      },
      "outputs": [],
      "source": [
        "from datasets import load_dataset\n",
        "from transformers import AutoTokenizer, AutoModelForSeq2SeqLM, Trainer, TrainingArguments\n",
        "import torch"
      ]
    },
    {
      "cell_type": "code",
      "source": [
        "dataset = load_dataset(\"cnn_dailymail\", \"3.0.0\", split=\"train[:200]\")\n",
        "\n",
        "def clean_text(example):\n",
        "    example[\"article\"] = example[\"article\"].lower().strip()\n",
        "    example[\"highlights\"] = example[\"highlights\"].lower().strip()\n",
        "    return example\n",
        "\n",
        "dataset = dataset.map(clean_text)\n",
        "print(dataset[0])"
      ],
      "metadata": {
        "id": "yPPD9-qYSNrj"
      },
      "execution_count": null,
      "outputs": []
    },
    {
      "cell_type": "code",
      "source": [
        "tokenizer = AutoTokenizer.from_pretrained(\"t5-small\")\n",
        "model = AutoModelForSeq2SeqLM.from_pretrained(\"t5-small\")\n",
        "\n",
        "def preprocess_function(examples):\n",
        "    inputs = [\"summarize: \" + doc for doc in examples[\"article\"]]\n",
        "    model_inputs = tokenizer(inputs, max_length=512, truncation=True, padding=\"max_length\")\n",
        "    labels = tokenizer(examples[\"highlights\"], max_length=150, truncation=True, padding=\"max_length\")\n",
        "    model_inputs[\"labels\"] = labels[\"input_ids\"]\n",
        "    return model_inputs\n",
        "\n",
        "tokenized_dataset = dataset.map(preprocess_function, batched=True)\n",
        "tokenized_dataset = tokenized_dataset.train_test_split(test_size=0.2)"
      ],
      "metadata": {
        "id": "jOxMfrWXSNv7"
      },
      "execution_count": null,
      "outputs": []
    },
    {
      "cell_type": "code",
      "source": [
        "training_args = TrainingArguments(\n",
        "    output_dir=\"./results\",\n",
        "    evaluation_strategy=\"epoch\",\n",
        "    learning_rate=2e-5,\n",
        "    per_device_train_batch_size=4,\n",
        "    per_device_eval_batch_size=4,\n",
        "    num_train_epochs=3,\n",
        "    weight_decay=0.01,\n",
        "    save_steps=500,\n",
        "    save_total_limit=2,\n",
        ")\n",
        "\n",
        "trainer = Trainer(\n",
        "    model=model,\n",
        "    args=training_args,\n",
        "    train_dataset=tokenized_dataset[\"train\"],\n",
        "    eval_dataset=tokenized_dataset[\"test\"],\n",
        ")\n",
        "\n",
        "trainer.train()\n",
        "model.save_pretrained(\"./fine_tuned_t5\")\n",
        "tokenizer.save_pretrained(\"./fine_tuned_t5\")"
      ],
      "metadata": {
        "id": "eVg61BwvSNz3"
      },
      "execution_count": null,
      "outputs": []
    },
    {
      "cell_type": "code",
      "source": [
        "from datasets import load_metric\n",
        "\n",
        "rouge = load_metric(\"rouge\")\n",
        "\n",
        "def generate_summary(batch):\n",
        "    inputs = tokenizer(batch[\"article\"], return_tensors=\"pt\", max_length=512, truncation=True, padding=True)\n",
        "    outputs = model.generate(inputs[\"input_ids\"], max_length=150, min_length=40, length_penalty=2.0, num_beams=4)\n",
        "    batch[\"predicted_summary\"] = tokenizer.decode(outputs[0], skip_special_tokens=True)\n",
        "    return batch\n",
        "\n",
        "results = tokenized_dataset[\"test\"].map(generate_summary)\n",
        "predictions = results[\"predicted_summary\"]\n",
        "references = results[\"highlights\"]\n",
        "\n",
        "rouge_scores = rouge.compute(predictions=predictions, references=references)\n",
        "print(rouge_scores)"
      ],
      "metadata": {
        "id": "kt0SKlN_SN3O"
      },
      "execution_count": null,
      "outputs": []
    }
  ]
}